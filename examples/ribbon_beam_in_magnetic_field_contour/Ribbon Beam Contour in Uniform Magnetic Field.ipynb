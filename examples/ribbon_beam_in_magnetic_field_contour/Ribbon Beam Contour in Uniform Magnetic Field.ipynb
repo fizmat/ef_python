{
 "cells": [
  {
   "cell_type": "markdown",
   "metadata": {},
   "source": [
    "## Trajectory equations:"
   ]
  },
  {
   "cell_type": "code",
   "execution_count": 154,
   "metadata": {
    "collapsed": true
   },
   "outputs": [],
   "source": [
    "%matplotlib inline\n",
    "import matplotlib.pyplot as plt"
   ]
  },
  {
   "cell_type": "code",
   "execution_count": 155,
   "metadata": {
    "collapsed": true
   },
   "outputs": [],
   "source": [
    "from sympy import *\n",
    "init_printing()"
   ]
  },
  {
   "cell_type": "code",
   "execution_count": 156,
   "metadata": {
    "collapsed": true
   },
   "outputs": [],
   "source": [
    "Ex, Ey, Ez = symbols(\"E_x, E_y, E_z\")\n",
    "Bx, By, Bz, B = symbols(\"B_x, B_y, B_z, B\")\n",
    "x, y, z = symbols(\"x, y, z\")\n",
    "vx, vy, vz, v = symbols(\"v_x, v_y, v_z, v\")\n",
    "t = symbols(\"t\")\n",
    "q, m = symbols(\"q, m\")\n",
    "c, eps0 = symbols(\"c, epsilon_0\")"
   ]
  },
  {
   "cell_type": "markdown",
   "metadata": {},
   "source": [
    "The equation of motion:\n",
    "$$\n",
    "\\begin{gather*}\n",
    "  m \\frac{d^2 \\vec{r} }{dt^2} = \n",
    "  q \\vec{E} + \\frac{q}{c} [ \\vec{v} \\vec{B} ] \n",
    "\\end{gather*}\n",
    "$$"
   ]
  },
  {
   "cell_type": "markdown",
   "metadata": {},
   "source": [
    "In Cortesian coordinates:"
   ]
  },
  {
   "cell_type": "code",
   "execution_count": 157,
   "metadata": {},
   "outputs": [
    {
     "data": {
      "image/png": "[encoded data removed]",
      "text/latex": [
       "$$\\frac{d^{2}}{d t^{2}}  x{\\left (t \\right )} = \\frac{E_{x} q}{m} + \\frac{q}{c m} \\left(- B_{y} v_{z} + B_{z} v_{y}\\right)$$"
      ],
      "text/plain": [
       "  2                                      \n",
       " d          Eₓ⋅q   q⋅(-B_y⋅v_z + B_z⋅v_y)\n",
       "───(x(t)) = ──── + ──────────────────────\n",
       "  2          m              c⋅m          \n",
       "dt                                       "
      ]
     },
     "metadata": {},
     "output_type": "display_data"
    },
    {
     "data": {
      "image/png": "[encoded data removed]",
      "text/latex": [
       "$$\\frac{d^{2}}{d t^{2}}  y{\\left (t \\right )} = \\frac{E_{y} q}{m} + \\frac{q}{c m} \\left(B_{x} v_{z} - B_{z} v_{x}\\right)$$"
      ],
      "text/plain": [
       "  2                                    \n",
       " d          E_y⋅q   q⋅(Bₓ⋅v_z - B_z⋅vₓ)\n",
       "───(y(t)) = ───── + ───────────────────\n",
       "  2           m             c⋅m        \n",
       "dt                                     "
      ]
     },
     "metadata": {},
     "output_type": "display_data"
    },
    {
     "data": {
      "image/png": "[encoded data removed]",
      "text/latex": [
       "$$\\frac{d^{2}}{d t^{2}}  z{\\left (t \\right )} = \\frac{E_{z} q}{m} + \\frac{q}{c m} \\left(- B_{x} v_{y} + B_{y} v_{x}\\right)$$"
      ],
      "text/plain": [
       "  2                                     \n",
       " d          E_z⋅q   q⋅(-Bₓ⋅v_y + B_y⋅vₓ)\n",
       "───(z(t)) = ───── + ────────────────────\n",
       "  2           m             c⋅m         \n",
       "dt                                      "
      ]
     },
     "metadata": {},
     "output_type": "display_data"
    }
   ],
   "source": [
    "eq_x = Eq( diff(x(t), t, 2), q / m * Ex + q / c / m * (vy * Bz - vz * By) )\n",
    "eq_y = Eq( diff(y(t), t, 2), q / m * Ey + q / c / m * (-vx * Bz + vz * Bx) )\n",
    "eq_z = Eq( diff(z(t), t, 2), q / m * Ez + q / c / m * (vx * By - vy * Bx) )\n",
    "display( eq_x, eq_y, eq_z )"
   ]
  },
  {
   "cell_type": "markdown",
   "metadata": {},
   "source": [
    "For the case of a uniform magnetic field \n",
    "along the $z$-axis: \n",
    "$$ \\vec{B} = B_z = B, \\quad B_x = 0, \\quad B_y = 0 $$"
   ]
  },
  {
   "cell_type": "code",
   "execution_count": 158,
   "metadata": {},
   "outputs": [
    {
     "data": {
      "image/png": "[encoded data removed]",
      "text/latex": [
       "$$\\frac{d^{2}}{d t^{2}}  x{\\left (t \\right )} = \\frac{B q v_{y}}{c m} + \\frac{E_{x} q}{m}$$"
      ],
      "text/plain": [
       "  2                       \n",
       " d          B⋅q⋅v_y   Eₓ⋅q\n",
       "───(x(t)) = ─────── + ────\n",
       "  2           c⋅m      m  \n",
       "dt                        "
      ]
     },
     "metadata": {},
     "output_type": "display_data"
    },
    {
     "data": {
      "image/png": "[encoded data removed]",
      "text/latex": [
       "$$\\frac{d^{2}}{d t^{2}}  y{\\left (t \\right )} = - \\frac{B q v_{x}}{c m} + \\frac{E_{y} q}{m}$$"
      ],
      "text/plain": [
       "  2                         \n",
       " d            B⋅q⋅vₓ   E_y⋅q\n",
       "───(y(t)) = - ────── + ─────\n",
       "  2            c⋅m       m  \n",
       "dt                          "
      ]
     },
     "metadata": {},
     "output_type": "display_data"
    },
    {
     "data": {
      "image/png": "[encoded data removed]",
      "text/latex": [
       "$$\\frac{d^{2}}{d t^{2}}  z{\\left (t \\right )} = \\frac{E_{z} q}{m}$$"
      ],
      "text/plain": [
       "  2              \n",
       " d          E_z⋅q\n",
       "───(z(t)) = ─────\n",
       "  2           m  \n",
       "dt               "
      ]
     },
     "metadata": {},
     "output_type": "display_data"
    }
   ],
   "source": [
    "uni_mgn_subs = [ (Bx, 0), (By, 0), (Bz, B) ]\n",
    "\n",
    "eq_x = eq_x.subs(uni_mgn_subs)\n",
    "eq_y = eq_y.subs(uni_mgn_subs)\n",
    "eq_z = eq_z.subs(uni_mgn_subs)\n",
    "display( eq_x, eq_y, eq_z )"
   ]
  },
  {
   "cell_type": "markdown",
   "metadata": {},
   "source": [
    "Assuming $E_z = 0$ and $E_y = 0$: "
   ]
  },
  {
   "cell_type": "code",
   "execution_count": 159,
   "metadata": {},
   "outputs": [
    {
     "data": {
      "image/png": "[encoded data removed]",
      "text/latex": [
       "$$\\frac{d^{2}}{d t^{2}}  x{\\left (t \\right )} = \\frac{B q v_{y}}{c m} + \\frac{E_{x} q}{m}$$"
      ],
      "text/plain": [
       "  2                       \n",
       " d          B⋅q⋅v_y   Eₓ⋅q\n",
       "───(x(t)) = ─────── + ────\n",
       "  2           c⋅m      m  \n",
       "dt                        "
      ]
     },
     "metadata": {},
     "output_type": "display_data"
    },
    {
     "data": {
      "image/png": "[encoded data removed]",
      "text/latex": [
       "$$\\frac{d^{2}}{d t^{2}}  y{\\left (t \\right )} = - \\frac{B q v_{x}}{c m}$$"
      ],
      "text/plain": [
       "  2                 \n",
       " d          -B⋅q⋅vₓ \n",
       "───(y(t)) = ────────\n",
       "  2           c⋅m   \n",
       "dt                  "
      ]
     },
     "metadata": {},
     "output_type": "display_data"
    },
    {
     "data": {
      "image/png": "[encoded data removed]",
      "text/latex": [
       "$$\\frac{d^{2}}{d t^{2}}  z{\\left (t \\right )} = 0$$"
      ],
      "text/plain": [
       "  2          \n",
       " d           \n",
       "───(z(t)) = 0\n",
       "  2          \n",
       "dt           "
      ]
     },
     "metadata": {},
     "output_type": "display_data"
    }
   ],
   "source": [
    "zero_EyEz_subs = [ (Ey, 0), (Ez, 0) ]\n",
    "eq_x = eq_x.subs(zero_EyEz_subs)\n",
    "eq_y = eq_y.subs(zero_EyEz_subs)\n",
    "eq_z = eq_z.subs(zero_EyEz_subs)\n",
    "display( eq_x, eq_y, eq_z )"
   ]
  },
  {
   "cell_type": "markdown",
   "metadata": {},
   "source": [
    "Motion is uniform along the $z$-axis:"
   ]
  },
  {
   "cell_type": "code",
   "execution_count": 160,
   "metadata": {},
   "outputs": [
    {
     "data": {
      "image/png": "[encoded data removed]",
      "text/latex": [
       "$$z{\\left (t \\right )} = C_{1} + C_{2} t$$"
      ],
      "text/plain": [
       "z(t) = C₁ + C₂⋅t"
      ]
     },
     "metadata": {},
     "output_type": "display_data"
    },
    {
     "data": {
      "image/png": "[encoded data removed]",
      "text/latex": [
       "$$\\frac{d}{d t} z{\\left (t \\right )} = C_{2}$$"
      ],
      "text/plain": [
       "d            \n",
       "──(z(t)) = C₂\n",
       "dt           "
      ]
     },
     "metadata": {},
     "output_type": "display_data"
    }
   ],
   "source": [
    "z_eq = dsolve( eq_z, z(t) )\n",
    "vz_eq = Eq( z_eq.lhs.diff(t), z_eq.rhs.diff(t) )\n",
    "display( z_eq, vz_eq )"
   ]
  },
  {
   "cell_type": "markdown",
   "metadata": {},
   "source": [
    "The constants of integration can be found from the initial conditions $z(0) = 0$ and $v_z(0) = v$:"
   ]
  },
  {
   "cell_type": "code",
   "execution_count": 161,
   "metadata": {},
   "outputs": [
    {
     "data": {
      "image/png": "[encoded data removed]",
      "text/latex": [
       "$$\\left \\{ C_{1} : 0, \\quad C_{2} : v\\right \\}$$"
      ],
      "text/plain": [
       "{C₁: 0, C₂: v}"
      ]
     },
     "execution_count": 161,
     "metadata": {},
     "output_type": "execute_result"
    }
   ],
   "source": [
    "z_0 = 0\n",
    "v_0 = v\n",
    "c1_c2_system = []\n",
    "initial_cond_subs = [(t, 0), (z(0), z_0), (diff(z(t),t).subs(t,0), v_0) ]\n",
    "c1_c2_system.append( z_eq.subs( initial_cond_subs ) )\n",
    "c1_c2_system.append( vz_eq.subs( initial_cond_subs ) )\n",
    "\n",
    "c1, c2 = symbols(\"C1, C2\")\n",
    "c1_c2 = solve( c1_c2_system, [c1, c2] )\n",
    "c1_c2"
   ]
  },
  {
   "cell_type": "markdown",
   "metadata": {},
   "source": [
    "So that"
   ]
  },
  {
   "cell_type": "code",
   "execution_count": 162,
   "metadata": {},
   "outputs": [
    {
     "data": {
      "image/png": "[encoded data removed]",
      "text/latex": [
       "$$z{\\left (t \\right )} = t v$$"
      ],
      "text/plain": [
       "z(t) = t⋅v"
      ]
     },
     "metadata": {},
     "output_type": "display_data"
    },
    {
     "data": {
      "image/png": "[encoded data removed]",
      "text/latex": [
       "$$\\frac{d}{d t} z{\\left (t \\right )} = v$$"
      ],
      "text/plain": [
       "d           \n",
       "──(z(t)) = v\n",
       "dt          "
      ]
     },
     "metadata": {},
     "output_type": "display_data"
    }
   ],
   "source": [
    "z_sol = z_eq.subs( c1_c2 )\n",
    "vz_sol = vz_eq.subs( c1_c2 )\n",
    "display( z_sol, vz_sol )"
   ]
  },
  {
   "cell_type": "markdown",
   "metadata": {},
   "source": [
    "Now, the equation for $y$ can be integrated:"
   ]
  },
  {
   "cell_type": "code",
   "execution_count": 163,
   "metadata": {},
   "outputs": [
    {
     "data": {
      "text/latex": [
       "$$\\frac{d}{d t} y{\\left (t \\right )} - \\left. \\frac{d}{d t} y{\\left (t \\right )} \\right|_{\\substack{ t=0 }} = \\frac{B q}{c m} x{\\left (0 \\right )} - \\frac{B q}{c m} x{\\left (t \\right )}$$"
      ],
      "text/plain": [
       "d          ⎛d       ⎞│      B⋅q⋅x(0)   B⋅q⋅x(t)\n",
       "──(y(t)) - ⎜──(y(t))⎟│    = ──────── - ────────\n",
       "dt         ⎝dt      ⎠│t=0     c⋅m        c⋅m   "
      ]
     },
     "execution_count": 163,
     "metadata": {},
     "output_type": "execute_result"
    }
   ],
   "source": [
    "v_as_diff = [ (vx, diff(x(t),t)), (vy, diff(y(t),t)), (vz, diff(z_sol.lhs,t)) ]\n",
    "eq_y = eq_y.subs( v_as_diff )\n",
    "eq_y = Eq( integrate( eq_y.lhs, (t, 0, t) ), integrate( eq_y.rhs, (t, 0, t) ) )\n",
    "eq_y"
   ]
  },
  {
   "cell_type": "markdown",
   "metadata": {},
   "source": [
    "For initial conditions $x(0) = x_0, y'(0) = 0$:"
   ]
  },
  {
   "cell_type": "code",
   "execution_count": 164,
   "metadata": {},
   "outputs": [
    {
     "data": {
      "image/png": "[encoded data removed]",
      "text/latex": [
       "$$\\frac{d}{d t} y{\\left (t \\right )} = \\frac{B q x_{0}}{c m} - \\frac{B q}{c m} x{\\left (t \\right )}$$"
      ],
      "text/plain": [
       "d          B⋅q⋅x₀   B⋅q⋅x(t)\n",
       "──(y(t)) = ────── - ────────\n",
       "dt          c⋅m       c⋅m   "
      ]
     },
     "execution_count": 164,
     "metadata": {},
     "output_type": "execute_result"
    }
   ],
   "source": [
    "x_0 = Symbol('x_0')\n",
    "vy_0 = 0\n",
    "initial_cond_subs = [(x(0), x_0), (diff(y(t),t).subs(t,0), vy_0) ]\n",
    "vy_sol = eq_y.subs( initial_cond_subs )\n",
    "vy_sol"
   ]
  },
  {
   "cell_type": "markdown",
   "metadata": {
    "collapsed": true
   },
   "source": [
    "This equation can be substituted into the equation for $x$-coorditante:"
   ]
  },
  {
   "cell_type": "code",
   "execution_count": 165,
   "metadata": {},
   "outputs": [
    {
     "data": {
      "image/png": "[encoded data removed]",
      "text/latex": [
       "$$\\frac{d^{2}}{d t^{2}}  x{\\left (t \\right )} = \\frac{B^{2} q^{2}}{c^{2} m^{2}} \\left(x_{0} - x{\\left (t \\right )}\\right) + \\frac{E_{x} q}{m}$$"
      ],
      "text/plain": [
       "  2          2  2                   \n",
       " d          B ⋅q ⋅(x₀ - x(t))   Eₓ⋅q\n",
       "───(x(t)) = ───────────────── + ────\n",
       "  2                2  2          m  \n",
       "dt                c ⋅m              "
      ]
     },
     "execution_count": 165,
     "metadata": {},
     "output_type": "execute_result"
    }
   ],
   "source": [
    "eq_x = eq_x.subs( vy, vy_sol.rhs )\n",
    "eq_x = Eq( eq_x.lhs, collect( expand( eq_x.rhs ), B *q / c / m ) )\n",
    "eq_x"
   ]
  },
  {
   "cell_type": "markdown",
   "metadata": {},
   "source": [
    "An expression for $E_x$ can be taken from the example on ribbon beam in free space $E_x = \\dfrac{ 2 \\pi I_0 }{v}$:"
   ]
  },
  {
   "cell_type": "code",
   "execution_count": 166,
   "metadata": {},
   "outputs": [
    {
     "data": {
      "image/png": "[encoded data removed]",
      "text/latex": [
       "$$\\frac{d^{2}}{d t^{2}}  x{\\left (t \\right )} = \\frac{B^{2} q^{2}}{c^{2} m^{2}} \\left(x_{0} - x{\\left (t \\right )}\\right) + \\frac{2 \\pi I_{0} q}{m v}$$"
      ],
      "text/plain": [
       "  2          2  2                       \n",
       " d          B ⋅q ⋅(x₀ - x(t))   2⋅π⋅I₀⋅q\n",
       "───(x(t)) = ───────────────── + ────────\n",
       "  2                2  2           m⋅v   \n",
       "dt                c ⋅m                  "
      ]
     },
     "execution_count": 166,
     "metadata": {},
     "output_type": "execute_result"
    }
   ],
   "source": [
    "I0 = symbols('I_0')\n",
    "Ex_subs = [ (Ex, 2 * pi * I0 / v) ]\n",
    "eq_x = eq_x.subs( ex_subs )\n",
    "eq_x"
   ]
  },
  {
   "cell_type": "markdown",
   "metadata": {},
   "source": [
    "This is an oscillator-type equation\n",
    "$$\n",
    "x'' + a x + b = 0\n",
    "$$\n",
    "with $a$ and $b$ given by"
   ]
  },
  {
   "cell_type": "code",
   "execution_count": 167,
   "metadata": {},
   "outputs": [
    {
     "data": {
      "image/png": "[encoded data removed]",
      "text/latex": [
       "$$a = - \\frac{B^{2} q^{2}}{c^{2} m^{2}}$$"
      ],
      "text/plain": [
       "      2  2 \n",
       "    -B ⋅q  \n",
       "a = ───────\n",
       "      2  2 \n",
       "     c ⋅m  "
      ]
     },
     "metadata": {},
     "output_type": "display_data"
    },
    {
     "data": {
      "image/png": "[encoded data removed]",
      "text/latex": [
       "$$b = \\frac{B^{2} q^{2} x_{0}}{c^{2} m^{2}} + \\frac{2 \\pi I_{0} q}{m v}$$"
      ],
      "text/plain": [
       "     2  2              \n",
       "    B ⋅q ⋅x₀   2⋅π⋅I₀⋅q\n",
       "b = ──────── + ────────\n",
       "      2  2       m⋅v   \n",
       "     c ⋅m              "
      ]
     },
     "metadata": {},
     "output_type": "display_data"
    }
   ],
   "source": [
    "eq_a = Eq(a, eq_x.rhs.expand().coeff(x(t), 1))\n",
    "eq_b = Eq( b, eq_x.rhs.expand().coeff(x(t), 0) )\n",
    "display( eq_a , eq_b )"
   ]
  },
  {
   "cell_type": "markdown",
   "metadata": {},
   "source": [
    "It's solution is given by:"
   ]
  },
  {
   "cell_type": "code",
   "execution_count": 168,
   "metadata": {},
   "outputs": [
    {
     "data": {
      "image/png": "[encoded data removed]",
      "text/latex": [
       "$$\\frac{d^{2}}{d t^{2}}  x{\\left (t \\right )} = b - x{\\left (t \\right )} \\left|{a}\\right|$$"
      ],
      "text/plain": [
       "  2                     \n",
       " d                      \n",
       "───(x(t)) = b - x(t)⋅│a│\n",
       "  2                     \n",
       "dt                      "
      ]
     },
     "metadata": {},
     "output_type": "display_data"
    },
    {
     "data": {
      "image/png": "[encoded data removed]",
      "text/latex": [
       "$$x{\\left (t \\right )} = C_{1} \\sin{\\left (t \\sqrt{\\left|{a}\\right|} \\right )} + C_{2} \\cos{\\left (t \\sqrt{\\left|{a}\\right|} \\right )} + \\frac{b}{\\left|{a}\\right|}$$"
      ],
      "text/plain": [
       "             ⎛    _____⎞         ⎛    _____⎞    b \n",
       "x(t) = C₁⋅sin⎝t⋅╲╱ │a│ ⎠ + C₂⋅cos⎝t⋅╲╱ │a│ ⎠ + ───\n",
       "                                               │a│"
      ]
     },
     "execution_count": 168,
     "metadata": {},
     "output_type": "execute_result"
    }
   ],
   "source": [
    "a, b, c = symbols(\"a, b, c\")\n",
    "osc_eqn = Eq( diff(x(t),t,2), - abs(a)*x(t) + b)\n",
    "display( osc_eqn )\n",
    "osc_eqn_sol = dsolve( osc_eqn )\n",
    "\n",
    "osc_eqn_sol"
   ]
  },
  {
   "cell_type": "markdown",
   "metadata": {},
   "source": [
    "From initial conditions $x(0) = x_0, v_0 = 0$:"
   ]
  },
  {
   "cell_type": "code",
   "execution_count": 169,
   "metadata": {},
   "outputs": [
    {
     "data": {
      "image/png": "[encoded data removed]",
      "text/latex": [
       "$$\\left \\{ C_{1} : 0, \\quad C_{2} : - \\frac{b}{\\left|{a}\\right|} + x_{0}\\right \\}$$"
      ],
      "text/plain": [
       "⎧              b      ⎫\n",
       "⎨C₁: 0, C₂: - ─── + x₀⎬\n",
       "⎩             │a│     ⎭"
      ]
     },
     "execution_count": 169,
     "metadata": {},
     "output_type": "execute_result"
    }
   ],
   "source": [
    "x_0 = symbols( 'x_0' )\n",
    "v_0 = 0\n",
    "c1_c2_system = []\n",
    "initial_cond_subs = [(t, 0), (x(0), x_0), (diff(x(t),t).subs(t,0), v_0) ]\n",
    "c1_c2_system.append( osc_eqn_sol.subs( initial_cond_subs ) )\n",
    "\n",
    "osc_eqn_sol_diff = Eq( osc_eqn_sol.lhs.diff(t), osc_eqn_sol.rhs.diff(t) )\n",
    "c1_c2_system.append( osc_eqn_sol_diff.subs( initial_cond_subs ) )\n",
    "\n",
    "c1, c2 = symbols(\"C1, C2\")\n",
    "c1_c2 = solve( c1_c2_system, [c1, c2] )\n",
    "c1_c2"
   ]
  },
  {
   "cell_type": "markdown",
   "metadata": {},
   "source": [
    "So that"
   ]
  },
  {
   "cell_type": "code",
   "execution_count": 170,
   "metadata": {},
   "outputs": [
    {
     "data": {
      "image/png": "[encoded data removed]",
      "text/latex": [
       "$$x{\\left (t \\right )} = \\frac{b}{\\left|{a}\\right|} + \\left(- \\frac{b}{\\left|{a}\\right|} + x_{0}\\right) \\cos{\\left (t \\sqrt{\\left|{a}\\right|} \\right )}$$"
      ],
      "text/plain": [
       "        b    ⎛   b      ⎞    ⎛    _____⎞\n",
       "x(t) = ─── + ⎜- ─── + x₀⎟⋅cos⎝t⋅╲╱ │a│ ⎠\n",
       "       │a│   ⎝  │a│     ⎠               "
      ]
     },
     "execution_count": 170,
     "metadata": {},
     "output_type": "execute_result"
    }
   ],
   "source": [
    "x_sol = osc_eqn_sol.subs( c1_c2 )\n",
    "x_sol"
   ]
  },
  {
   "cell_type": "markdown",
   "metadata": {},
   "source": [
    "Taking into account that \n",
    "$$ \\sqrt{|a|} = \\omega_g = \\frac{ q B }{mc } $$\n",
    "where $\\omega_g$ is the gyrofrequency, and since"
   ]
  },
  {
   "cell_type": "code",
   "execution_count": 171,
   "metadata": {},
   "outputs": [
    {
     "data": {
      "image/png": "[encoded data removed]",
      "text/latex": [
       "$$\\frac{b}{\\left|{a}\\right|} = x_{0} + \\frac{2 \\pi I_{0} c^{2} m}{B^{2} q v}$$"
      ],
      "text/plain": [
       "                   2  \n",
       " b         2⋅π⋅I₀⋅c ⋅m\n",
       "─── = x₀ + ───────────\n",
       "│a│            2      \n",
       "              B ⋅q⋅v  "
      ]
     },
     "execution_count": 171,
     "metadata": {},
     "output_type": "execute_result"
    }
   ],
   "source": [
    "b_over_a = simplify( eq_b.rhs / abs( eq_a.rhs ).subs( abs( eq_a.rhs ), -eq_a.rhs ) )\n",
    "Eq( b/abs(a), b_over_a )"
   ]
  },
  {
   "cell_type": "markdown",
   "metadata": {},
   "source": [
    "It is possible to rewrite the solution as"
   ]
  },
  {
   "cell_type": "code",
   "execution_count": 178,
   "metadata": {},
   "outputs": [
    {
     "data": {
      "image/png": "[encoded data removed]",
      "text/latex": [
       "$$x{\\left (t \\right )} = - A \\cos{\\left (\\omega_{g} t \\right )} + A + x_{0}$$"
      ],
      "text/plain": [
       "x(t) = -A⋅cos(ω_g⋅t) + A + x₀"
      ]
     },
     "metadata": {},
     "output_type": "display_data"
    },
    {
     "data": {
      "image/png": "[encoded data removed]",
      "text/latex": [
       "$$A = \\frac{2 \\pi I_{0} c^{2} m}{B^{2} q v}$$"
      ],
      "text/plain": [
       "            2  \n",
       "    2⋅π⋅I₀⋅c ⋅m\n",
       "A = ───────────\n",
       "        2      \n",
       "       B ⋅q⋅v  "
      ]
     },
     "metadata": {},
     "output_type": "display_data"
    },
    {
     "data": {
      "image/png": "[encoded data removed]",
      "text/latex": [
       "$$\\omega_{g} = \\frac{B q}{c m}$$"
      ],
      "text/plain": [
       "      B⋅q\n",
       "ω_g = ───\n",
       "      c⋅m"
      ]
     },
     "metadata": {},
     "output_type": "display_data"
    }
   ],
   "source": [
    "omega_g = symbols('omega_g')\n",
    "eq_omega_g = Eq( omega_g, q * B / m / c )\n",
    "A = symbols('A')\n",
    "eq_A = Eq( A, b_over_a - x_0 )\n",
    "subs_list = [ (b/abs(a), b_over_a), ( sqrt( abs(a) ), omega_g ), ( eq_A.rhs, eq_A.lhs) ]\n",
    "x_sol = x_sol.subs( subs_list )\n",
    "display( x_sol, eq_A, eq_omega_g )"
   ]
  },
  {
   "cell_type": "markdown",
   "metadata": {},
   "source": [
    "From the laws of motion for $x(t)$ and $z(t)$"
   ]
  },
  {
   "cell_type": "code",
   "execution_count": 173,
   "metadata": {},
   "outputs": [
    {
     "data": {
      "image/png": "[encoded data removed]",
      "text/latex": [
       "$$x{\\left (t \\right )} = - A \\cos{\\left (\\omega_{g} t \\right )} + A + x_{0}$$"
      ],
      "text/plain": [
       "x(t) = -A⋅cos(ω_g⋅t) + A + x₀"
      ]
     },
     "metadata": {},
     "output_type": "display_data"
    },
    {
     "data": {
      "image/png": "[encoded data removed]",
      "text/latex": [
       "$$z{\\left (t \\right )} = t v$$"
      ],
      "text/plain": [
       "z(t) = t⋅v"
      ]
     },
     "metadata": {},
     "output_type": "display_data"
    }
   ],
   "source": [
    "display( x_sol, z_sol )"
   ]
  },
  {
   "cell_type": "markdown",
   "metadata": {},
   "source": [
    "it is possible to obtain a trajectory equation:"
   ]
  },
  {
   "cell_type": "code",
   "execution_count": 179,
   "metadata": {},
   "outputs": [
    {
     "data": {
      "image/png": "[encoded data removed]",
      "text/latex": [
       "$$x{\\left (z \\right )} = - A \\cos{\\left (\\frac{\\omega_{g} z}{v} \\right )} + A + x_{0}$$"
      ],
      "text/plain": [
       "              ⎛ω_g⋅z⎞         \n",
       "x(z) = - A⋅cos⎜─────⎟ + A + x₀\n",
       "              ⎝  v  ⎠         "
      ]
     },
     "metadata": {},
     "output_type": "display_data"
    },
    {
     "data": {
      "image/png": "[encoded data removed]",
      "text/latex": [
       "$$A = \\frac{2 \\pi I_{0} c^{2} m}{B^{2} q v}$$"
      ],
      "text/plain": [
       "            2  \n",
       "    2⋅π⋅I₀⋅c ⋅m\n",
       "A = ───────────\n",
       "        2      \n",
       "       B ⋅q⋅v  "
      ]
     },
     "metadata": {},
     "output_type": "display_data"
    },
    {
     "data": {
      "image/png": "[encoded data removed]",
      "text/latex": [
       "$$\\omega_{g} = \\frac{B q}{c m}$$"
      ],
      "text/plain": [
       "      B⋅q\n",
       "ω_g = ───\n",
       "      c⋅m"
      ]
     },
     "metadata": {},
     "output_type": "display_data"
    }
   ],
   "source": [
    "t_from_z = solve( z_sol.subs(z(t),z), t )[0]\n",
    "x_z_traj = Eq( x_sol.lhs.subs( t, z ), x_sol.rhs.subs( [(t, t_from_z)] ) )\n",
    "display( x_z_traj, eq_A, eq_omega_g )"
   ]
  },
  {
   "cell_type": "code",
   "execution_count": null,
   "metadata": {},
   "outputs": [],
   "source": []
  }
 ],
 "metadata": {
  "kernelspec": {
   "display_name": "Python 3",
   "language": "python",
   "name": "python3"
  },
  "language_info": {
   "codemirror_mode": {
    "name": "ipython",
    "version": 3
   },
   "file_extension": ".py",
   "mimetype": "text/x-python",
   "name": "python",
   "nbconvert_exporter": "python",
   "pygments_lexer": "ipython3",
   "version": "3.4.2"
  }
 },
 "nbformat": 4,
 "nbformat_minor": 2
}
